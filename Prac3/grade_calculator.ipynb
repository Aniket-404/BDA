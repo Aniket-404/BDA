{
 "cells": [
  {
   "cell_type": "code",
   "execution_count": null,
   "metadata": {
    "vscode": {
     "languageId": "plaintext"
    }
   },
   "outputs": [],
   "source": [
    "!pip install mrjob\n"
   ]
  },
  {
   "cell_type": "code",
   "execution_count": null,
   "metadata": {
    "vscode": {
     "languageId": "plaintext"
    }
   },
   "outputs": [],
   "source": [
    "%%writefile grade_calculator.py\n",
    "from mrjob.job import MRJob\n",
    "import logging\n",
    "\n",
    "class StudentGradeCalculator(MRJob):\n",
    "\n",
    "    def mapper(self, _, line):\n",
    "        \"\"\"Reads student name and score, then assigns a grade.\"\"\"\n",
    "        name, score = line.split()  # Split line into name and score\n",
    "        score = int(score)  # Convert score to integer\n",
    "\n",
    "        # Assign grades based on the score\n",
    "        if 90 <= score <= 100:\n",
    "            grade = \"A\"\n",
    "        elif 80 <= score <= 89:\n",
    "            grade = \"B\"\n",
    "        elif 70 <= score <= 79:\n",
    "            grade = \"C\"\n",
    "        elif 60 <= score <= 69:\n",
    "            grade = \"D\"\n",
    "        else:\n",
    "            grade = \"F\"\n",
    "\n",
    "        yield (name, grade)\n",
    "\n",
    "    def reducer(self, name, grades):\n",
    "        \"\"\"Output the student's name and final grade.\"\"\"\n",
    "        yield (name, list(grades)[0])\n",
    "\n",
    "if __name__ == '__main__':\n",
    "    # ✅ Disable logging messages\n",
    "    logging.getLogger().setLevel(logging.ERROR)\n",
    "    StudentGradeCalculator.run()\n"
   ]
  },
  {
   "cell_type": "code",
   "execution_count": null,
   "metadata": {
    "vscode": {
     "languageId": "plaintext"
    }
   },
   "outputs": [],
   "source": [
    "!python grade_calculator.py students.txt 2>/dev/null\n"
   ]
  }
 ],
 "metadata": {
  "language_info": {
   "name": "python"
  }
 },
 "nbformat": 4,
 "nbformat_minor": 2
}
