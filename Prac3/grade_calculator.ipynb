{
 "cells": [
  {
   "cell_type": "code",
   "execution_count": null,
   "metadata": {},
   "outputs": [
    {
     "name": "stdout",
     "output_type": "stream",
     "text": [
      "Requirement already satisfied: mrjob in c:\\users\\kambl\\appdata\\local\\programs\\python\\python39\\lib\\site-packages (0.7.4)\n",
      "Requirement already satisfied: PyYAML>=3.10 in c:\\users\\kambl\\appdata\\local\\programs\\python\\python39\\lib\\site-packages (from mrjob) (6.0.1)\n"
     ]
    },
    {
     "name": "stderr",
     "output_type": "stream",
     "text": [
      "\n",
      "[notice] A new release of pip is available: 24.2 -> 25.0.1\n",
      "[notice] To update, run: python.exe -m pip install --upgrade pip\n"
     ]
    }
   ],
   "source": [
    "%pip install mrjob\n"
   ]
  },
  {
   "cell_type": "code",
   "execution_count": null,
   "metadata": {},
   "outputs": [
    {
     "name": "stdout",
     "output_type": "stream",
     "text": [
      "Overwriting grade_calculator.py\n"
     ]
    }
   ],
   "source": [
    "%%writefile grade_calculator.py\n",
    "from mrjob.job import MRJob\n",
    "import logging\n",
    "\n",
    "class StudentGradeCalculator(MRJob):\n",
    "\n",
    "    def mapper(self, _, line):\n",
    "        \"\"\"Reads student name and score, then assigns a grade.\"\"\"\n",
    "        name, score = line.split()  # Split line into name and score\n",
    "        score = int(score)  # Convert score to integer\n",
    "\n",
    "        # Assign grades based on the score\n",
    "        if 90 <= score <= 100:\n",
    "            grade = \"A\"\n",
    "        elif 80 <= score <= 89:\n",
    "            grade = \"B\"\n",
    "        elif 70 <= score <= 79:\n",
    "            grade = \"C\"\n",
    "        elif 60 <= score <= 69:\n",
    "            grade = \"D\"\n",
    "        else:\n",
    "            grade = \"F\"\n",
    "\n",
    "        yield (name, grade)\n",
    "\n",
    "    def reducer(self, name, grades):\n",
    "        \"\"\"Output the student's name and final grade.\"\"\"\n",
    "        yield (name, list(grades)[0])\n",
    "\n",
    "if __name__ == '__main__':\n",
    "    # Disable logging messages\n",
    "    logging.getLogger().setLevel(logging.ERROR)\n",
    "    StudentGradeCalculator.run()\n"
   ]
  },
  {
   "cell_type": "code",
   "execution_count": 2,
   "metadata": {},
   "outputs": [
    {
     "name": "stdout",
     "output_type": "stream",
     "text": [
      "\"Alice\"\t\"B\"\n",
      "\"Bob\"\t\"C\"\n",
      "\"Charlie\"\t\"A\"\n",
      "\"David\"\t\"D\"\n",
      "\"Emma\"\t\"F\"\n"
     ]
    }
   ],
   "source": [
    "!python grade_calculator.py students.txt 2>/dev/null\n"
   ]
  }
 ],
 "metadata": {
  "kernelspec": {
   "display_name": "Python 3",
   "language": "python",
   "name": "python3"
  },
  "language_info": {
   "codemirror_mode": {
    "name": "ipython",
    "version": 3
   },
   "file_extension": ".py",
   "mimetype": "text/x-python",
   "name": "python",
   "nbconvert_exporter": "python",
   "pygments_lexer": "ipython3",
   "version": "3.9.12"
  }
 },
 "nbformat": 4,
 "nbformat_minor": 2
}
