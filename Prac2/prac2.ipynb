{
  "cells": [
    {
      "cell_type": "code",
      "execution_count": 7,
      "metadata": {
        "vscode": {
          "languageId": "plaintext"
        },
        "colab": {
          "base_uri": "https://localhost:8080/"
        },
        "id": "aoizV1fbFBsM",
        "outputId": "1f39faac-ed02-43b9-f57e-48ea609f60c2"
      },
      "outputs": [
        {
          "output_type": "stream",
          "name": "stdout",
          "text": [
            "Requirement already satisfied: mrjob in /usr/local/lib/python3.11/dist-packages (0.7.4)\n",
            "Requirement already satisfied: PyYAML>=3.10 in /usr/local/lib/python3.11/dist-packages (from mrjob) (6.0.2)\n"
          ]
        }
      ],
      "source": [
        "!pip install mrjob\n"
      ]
    },
    {
      "cell_type": "code",
      "execution_count": 13,
      "metadata": {
        "colab": {
          "base_uri": "https://localhost:8080/"
        },
        "id": "sg3GxjBMFBsN",
        "outputId": "9480726c-1b62-412a-b7a1-02d384578a57"
      },
      "outputs": [
        {
          "output_type": "stream",
          "name": "stdout",
          "text": [
            "Overwriting word_count.py\n"
          ]
        }
      ],
      "source": [
        "%%writefile word_count.py\n",
        "from mrjob.job import MRJob\n",
        "import logging\n",
        "\n",
        "class WordFrequencyCounter(MRJob):\n",
        "\n",
        "    def configure_args(self):\n",
        "        \"\"\"Allow user to specify a word to count as an argument.\"\"\"\n",
        "        super(WordFrequencyCounter, self).configure_args()\n",
        "        self.add_passthru_arg('--word', type=str, help=\"Word to count\")\n",
        "\n",
        "    def mapper(self, _, line):\n",
        "        \"\"\"Splits the line into words and emits (word, 1) pairs.\"\"\"\n",
        "        target_word = self.options.word.lower()  # Get the target word\n",
        "        words = line.lower().split()  # Convert line to lowercase and split words\n",
        "        for word in words:\n",
        "            if word == target_word:  # Only count the target word\n",
        "                yield (word, 1)\n",
        "\n",
        "    def reducer(self, word, counts):\n",
        "        \"\"\"Sums up the counts for each word.\"\"\"\n",
        "        yield (word, sum(counts))\n",
        "\n",
        "if __name__ == '__main__':\n",
        "    # ✅ Disable logging messages\n",
        "    logging.getLogger().setLevel(logging.ERROR)\n",
        "    WordFrequencyCounter.run()\n"
      ]
    },
    {
      "cell_type": "code",
      "source": [
        "!python word_count.py document.txt --word apple 2>/dev/null\n"
      ],
      "metadata": {
        "id": "-GIMfd9UHbXI",
        "outputId": "af671d4b-fd9b-4082-c1e3-77953c7a61fa",
        "colab": {
          "base_uri": "https://localhost:8080/"
        }
      },
      "execution_count": 14,
      "outputs": [
        {
          "output_type": "stream",
          "name": "stdout",
          "text": [
            "\"apple\"\t4\n"
          ]
        }
      ]
    }
  ],
  "metadata": {
    "language_info": {
      "name": "python"
    },
    "colab": {
      "provenance": []
    },
    "kernelspec": {
      "name": "python3",
      "display_name": "Python 3"
    }
  },
  "nbformat": 4,
  "nbformat_minor": 0
}