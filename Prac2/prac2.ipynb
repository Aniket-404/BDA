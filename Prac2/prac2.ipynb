{
  "cells": [
    {
      "cell_type": "code",
      "execution_count": 3,
      "metadata": {
        "colab": {
          "base_uri": "https://localhost:8080/"
        },
        "id": "aoizV1fbFBsM",
        "outputId": "1f39faac-ed02-43b9-f57e-48ea609f60c2"
      },
      "outputs": [
        {
          "name": "stdout",
          "output_type": "stream",
          "text": [
            "Requirement already satisfied: mrjob in c:\\users\\kambl\\appdata\\local\\programs\\python\\python39\\lib\\site-packages (0.7.4)\n",
            "Requirement already satisfied: PyYAML>=3.10 in c:\\users\\kambl\\appdata\\local\\programs\\python\\python39\\lib\\site-packages (from mrjob) (6.0.1)\n",
            "Note: you may need to restart the kernel to use updated packages.\n"
          ]
        },
        {
          "name": "stderr",
          "output_type": "stream",
          "text": [
            "\n",
            "[notice] A new release of pip is available: 24.2 -> 25.0.1\n",
            "[notice] To update, run: python.exe -m pip install --upgrade pip\n"
          ]
        }
      ],
      "source": [
        "%pip install mrjob\n"
      ]
    },
    {
      "cell_type": "code",
      "execution_count": 1,
      "metadata": {
        "colab": {
          "base_uri": "https://localhost:8080/"
        },
        "id": "sg3GxjBMFBsN",
        "outputId": "9480726c-1b62-412a-b7a1-02d384578a57"
      },
      "outputs": [
        {
          "name": "stdout",
          "output_type": "stream",
          "text": [
            "Overwriting word_count.py\n"
          ]
        }
      ],
      "source": [
        "%%writefile word_count.py\n",
        "from mrjob.job import MRJob\n",
        "import logging\n",
        "\n",
        "class WordFrequencyCounter(MRJob):\n",
        "\n",
        "    def configure_args(self):\n",
        "        \"\"\"Allow user to specify a word to count as an argument.\"\"\"\n",
        "        super(WordFrequencyCounter, self).configure_args()\n",
        "        self.add_passthru_arg('--word', type=str, help=\"Word to count\")\n",
        "\n",
        "    def mapper(self, _, line):\n",
        "        \"\"\"Splits the line into words and emits (word, 1) pairs.\"\"\"\n",
        "        target_word = self.options.word.lower()  # Get the target word\n",
        "        words = line.lower().split()  # Convert line to lowercase and split words\n",
        "        for word in words:\n",
        "            if word == target_word:  # Only count the target word\n",
        "                yield (word, 1)\n",
        "\n",
        "    def reducer(self, word, counts):\n",
        "        \"\"\"Sums up the counts for each word.\"\"\"\n",
        "        yield (word, sum(counts))\n",
        "\n",
        "if __name__ == '__main__':\n",
        "    # Disable logging messages\n",
        "    logging.getLogger().setLevel(logging.ERROR)\n",
        "    WordFrequencyCounter.run()\n"
      ]
    },
    {
      "cell_type": "code",
      "execution_count": 2,
      "metadata": {
        "colab": {
          "base_uri": "https://localhost:8080/"
        },
        "id": "-GIMfd9UHbXI",
        "outputId": "af671d4b-fd9b-4082-c1e3-77953c7a61fa"
      },
      "outputs": [
        {
          "name": "stdout",
          "output_type": "stream",
          "text": [
            "\"apple\"\t4\n"
          ]
        }
      ],
      "source": [
        "!python word_count.py document.txt --word apple 2>/dev/null\n"
      ]
    }
  ],
  "metadata": {
    "colab": {
      "provenance": []
    },
    "kernelspec": {
      "display_name": "Python 3",
      "name": "python3"
    },
    "language_info": {
      "codemirror_mode": {
        "name": "ipython",
        "version": 3
      },
      "file_extension": ".py",
      "mimetype": "text/x-python",
      "name": "python",
      "nbconvert_exporter": "python",
      "pygments_lexer": "ipython3",
      "version": "3.9.12"
    }
  },
  "nbformat": 4,
  "nbformat_minor": 0
}
