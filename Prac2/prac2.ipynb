{
  "cells": [
    {
      "cell_type": "code",
      "execution_count": null,
      "metadata": {
        "vscode": {
          "languageId": "plaintext"
        },
        "id": "aoizV1fbFBsM"
      },
      "outputs": [],
      "source": [
        "!pip install mrjob\n"
      ]
    },
    {
      "cell_type": "code",
      "execution_count": null,
      "metadata": {
        "id": "sg3GxjBMFBsN"
      },
      "outputs": [],
      "source": [
        "from mrjob.job import MRJob\n",
        "\n",
        "class WordFrequencyCounter(MRJob):\n",
        "\n",
        "    def configure_args(self):\n",
        "        \"\"\"Allow user to specify a word to count as an argument.\"\"\"\n",
        "        super(WordFrequencyCounter, self).configure_args()\n",
        "        self.add_passthru_arg('--word', type=str, help=\"Word to count\")\n",
        "\n",
        "    def mapper(self, _, line):\n",
        "        \"\"\"Splits the line into words and emits (word, 1) pairs.\"\"\"\n",
        "        target_word = self.options.word.lower()  # Get the target word\n",
        "        words = line.lower().split()  # Convert line to lowercase and split words\n",
        "        for word in words:\n",
        "            if word == target_word:  # Only count the target word\n",
        "                yield (word, 1)\n",
        "\n",
        "    def reducer(self, word, counts):\n",
        "        \"\"\"Sums up the counts for each word.\"\"\"\n",
        "        yield (word, sum(counts))\n",
        "\n",
        "if __name__ == '__main__':\n",
        "    WordFrequencyCounter.run()\n"
      ]
    },
    {
      "cell_type": "code",
      "source": [
        "!python word_count.py document.txt --word \"your_target_word\"\n"
      ],
      "metadata": {
        "id": "G7HRgU1iFKD2"
      },
      "execution_count": null,
      "outputs": []
    }
  ],
  "metadata": {
    "language_info": {
      "name": "python"
    },
    "colab": {
      "provenance": []
    },
    "kernelspec": {
      "name": "python3",
      "display_name": "Python 3"
    }
  },
  "nbformat": 4,
  "nbformat_minor": 0
}